{
  "cells": [
    {
      "cell_type": "markdown",
      "source": [
        "#Connect to GDrive#"
      ],
      "metadata": {
        "id": "ptZWmTkblaZY"
      }
    },
    {
      "cell_type": "code",
      "execution_count": null,
      "metadata": {
        "colab": {
          "background_save": true
        },
        "id": "aTZSIt-tj0Nb"
      },
      "outputs": [],
      "source": [
        "from google.colab import drive\n",
        "drive.mount(\"/content/gdrive\")"
      ]
    },
    {
      "cell_type": "code",
      "execution_count": null,
      "metadata": {
        "id": "y3WQwJJbj5e3"
      },
      "outputs": [],
      "source": [
        "#Input your YOLOv7 path\n",
        "%cd /content/gdrive/MyDrive/TestYoloV7/TestSegmentation"
      ]
    },
    {
      "cell_type": "markdown",
      "source": [
        "#Setting Environment#"
      ],
      "metadata": {
        "id": "BHUJ6ceNl0qH"
      }
    },
    {
      "cell_type": "code",
      "execution_count": null,
      "metadata": {
        "id": "yyuXv3EakRbI"
      },
      "outputs": [],
      "source": [
        "!git clone https://github.com/WongKinYiu/yolov7"
      ]
    },
    {
      "cell_type": "code",
      "execution_count": null,
      "metadata": {
        "id": "MEiiblcVoTKv"
      },
      "outputs": [],
      "source": [
        "!git checkout 44f30af0daccb1a3baecc5d80eae22948516c579"
      ]
    },
    {
      "cell_type": "code",
      "execution_count": null,
      "metadata": {
        "id": "8StHZmxqpMQ-"
      },
      "outputs": [],
      "source": [
        "%cd seg"
      ]
    },
    {
      "cell_type": "code",
      "execution_count": null,
      "metadata": {
        "id": "PmOk4ZXsqFxU"
      },
      "outputs": [],
      "source": [
        "!pip install --upgrade pip\n",
        "!pip install -r requirements.txt"
      ]
    },
    {
      "cell_type": "markdown",
      "source": [
        "#Get Model YOLOv7 Segmentation#"
      ],
      "metadata": {
        "id": "jB60tJk4mAwm"
      }
    },
    {
      "cell_type": "code",
      "execution_count": null,
      "metadata": {
        "id": "HrRQ4-EPqjVc"
      },
      "outputs": [],
      "source": [
        "!wget https://github.com/WongKinYiu/yolov7/releases/download/v0.1/yolov7-seg.pt\n"
      ]
    },
    {
      "cell_type": "markdown",
      "source": [
        "#Training Model#"
      ],
      "metadata": {
        "id": "csYPwfHAmGYu"
      }
    },
    {
      "cell_type": "code",
      "execution_count": null,
      "metadata": {
        "id": "t5gxtYazq22P"
      },
      "outputs": [],
      "source": [
        "!python segment/train.py --device 0 --batch 16 --epochs 10 --data data/data-custom.yaml --hyp data/hyps/hyp.scratch-low.yaml --weights yolov7-seg.pt --name yolov7-seg-cutom"
      ]
    },
    {
      "cell_type": "markdown",
      "source": [
        "#Predict#"
      ],
      "metadata": {
        "id": "ZfteWD3bmKjj"
      }
    },
    {
      "cell_type": "code",
      "execution_count": null,
      "metadata": {
        "id": "HGGqGX5O3C7m"
      },
      "outputs": [],
      "source": [
        "!python segment/predict.py --weights runs/train-seg/custom/weights/best.pt --conf 0.25 --source data_test/test/images"
      ]
    }
  ],
  "metadata": {
    "colab": {
      "provenance": []
    },
    "kernelspec": {
      "display_name": "Python 3",
      "name": "python3"
    },
    "language_info": {
      "name": "python"
    }
  },
  "nbformat": 4,
  "nbformat_minor": 0
}